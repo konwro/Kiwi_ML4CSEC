{
 "cells": [
  {
   "cell_type": "markdown",
   "metadata": {},
   "source": [
    "Get CPU usage with psutil"
   ]
  },
  {
   "cell_type": "code",
   "execution_count": 10,
   "metadata": {},
   "outputs": [
    {
     "name": "stdout",
     "output_type": "stream",
     "text": [
      "49.5\n",
      "49.5\n",
      "49.5\n",
      "49.5\n",
      "49.5\n",
      "49.5\n",
      "49.5\n",
      "49.5\n",
      "49.5\n",
      "49.5\n"
     ]
    }
   ],
   "source": [
    "import psutil\n",
    "\n",
    "current_cpu = psutil.cpu_percent()\n",
    "\n",
    "i=0\n",
    "while i < 10:\n",
    "    print(current_cpu)\n",
    "    i+=1\n"
   ]
  }
 ],
 "metadata": {
  "interpreter": {
   "hash": "13be996707cade6ab6f29e33447cde9c4f380b1e11836a6550956a278061986d"
  },
  "kernelspec": {
   "display_name": "Python 3.8.5 ('base')",
   "language": "python",
   "name": "python3"
  },
  "language_info": {
   "codemirror_mode": {
    "name": "ipython",
    "version": 3
   },
   "file_extension": ".py",
   "mimetype": "text/x-python",
   "name": "python",
   "nbconvert_exporter": "python",
   "pygments_lexer": "ipython3",
   "version": "3.8.5"
  },
  "orig_nbformat": 4
 },
 "nbformat": 4,
 "nbformat_minor": 2
}
