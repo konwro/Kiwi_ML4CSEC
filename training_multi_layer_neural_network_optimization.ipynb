{
 "cells": [
  {
   "cell_type": "markdown",
   "metadata": {},
   "source": [
    "### Optimization of multi-layer neural networks model\n",
    "- XOR with parameter changed to purposefully convergence\n",
    "- changed the max iterations parameter, max_iter, from 10,000 to 1,000"
   ]
  },
  {
   "cell_type": "code",
   "execution_count": 1,
   "metadata": {},
   "outputs": [],
   "source": [
    "import pandas as pd\n",
    "import numpy as np\n",
    "import matplotlib.pyplot as plt\n",
    "from matplotlib.colors import ListedColormap\n",
    "from sklearn.preprocessing import LabelEncoder, StandardScaler\n",
    "from sklearn.linear_model import Perceptron\n",
    "from sklearn.neural_network import MLPClassifier\n",
    "from sklearn.model_selection import train_test_split\n",
    "from sklearn.metrics import accuracy_score\n"
   ]
  },
  {
   "cell_type": "markdown",
   "metadata": {},
   "source": [
    "Plot algorithm accuracy score"
   ]
  },
  {
   "cell_type": "code",
   "execution_count": 2,
   "metadata": {},
   "outputs": [],
   "source": [
    "def plot_decision_boundary(classifier, X, y, title):\n",
    "    xmin, xmax = np.min(X[:, 0]) - 0.05, np.max(X[:, 0]) + 0.05\n",
    "    ymin, ymax = np.min(X[:, 1]) - 0.05, np.max(X[:, 1]) + 0.05\n",
    "    step = 0.01\n",
    "    \n",
    "    cm = plt.cm.coolwarm_r\n",
    "    #cm = plt.cm.RdBu\n",
    "    \n",
    "    thr = 0.0\n",
    "    xx, yy = np.meshgrid(np.arange(xmin - thr, xmax + thr, step), np.arange(ymin - thr, ymax + thr, step))\n",
    "    \n",
    "    if hasattr(classifier, 'decision_function'):\n",
    "        Z = classifier.decision_function(np.hstack((xx.ravel()[:, np.newaxis], yy.ravel()[:, np.newaxis])))\n",
    "    \n",
    "    else:\n",
    "        Z = classifier.predict_proba(np.hstack((xx.ravel()[:, np.newaxis], yy.ravel()[:, np.newaxis])))[:, 1]\n",
    "    \n",
    "    Z = Z.reshape(xx.shape)\n",
    "    \n",
    "    plt.contourf(xx, yy, Z, cmap=cm, alpha=0.8)\n",
    "    plt.colorbar()\n",
    "    plt.scatter(X[:, 0], X[:, 1], c=y, cmap=ListedColormap(['#FF0000', '#0000FF']), alpha=0.6)\n",
    "    plt.xlim(xmin, xmax)\n",
    "    plt.ylim(ymin, ymax)\n",
    "    plt.xticks((0.0, 1.0))\n",
    "    plt.yticks((0.0, 1.0))\n",
    "    plt.title(title)"
   ]
  },
  {
   "cell_type": "markdown",
   "metadata": {},
   "source": [
    "Compute XOR"
   ]
  },
  {
   "cell_type": "code",
   "execution_count": 6,
   "metadata": {},
   "outputs": [],
   "source": [
    "# purposefully non-convergent\n",
    "X = np.array([[0,0],[0,1],[1,0],[1,1]], dtype=np.double)\n",
    "y_XOR = np.array([0,1,1,0])\n",
    "\n",
    "# create MLPClassifier\n",
    "mlp = MLPClassifier(\n",
    "    hidden_layer_sizes=(5,),\n",
    "    activation='tanh',\n",
    "    max_iter=1000,\n",
    "    random_state=10\n",
    ")"
   ]
  },
  {
   "cell_type": "markdown",
   "metadata": {},
   "source": [
    "Train the model"
   ]
  },
  {
   "cell_type": "code",
   "execution_count": 7,
   "metadata": {},
   "outputs": [
    {
     "name": "stderr",
     "output_type": "stream",
     "text": [
      "E:\\2_DEV\\DEV_Python\\anaconda\\lib\\site-packages\\sklearn\\neural_network\\_multilayer_perceptron.py:582: ConvergenceWarning: Stochastic Optimizer: Maximum iterations (1000) reached and the optimization hasn't converged yet.\n",
      "  warnings.warn(\n"
     ]
    },
    {
     "data": {
      "text/plain": [
       "MLPClassifier(activation='tanh', hidden_layer_sizes=(5,), max_iter=1000,\n",
       "              random_state=10)"
      ]
     },
     "execution_count": 7,
     "metadata": {},
     "output_type": "execute_result"
    }
   ],
   "source": [
    "mlp.fit(X, y_XOR)"
   ]
  },
  {
   "cell_type": "markdown",
   "metadata": {},
   "source": [
    "Plot and display the decision boundary"
   ]
  },
  {
   "cell_type": "code",
   "execution_count": 8,
   "metadata": {},
   "outputs": [
    {
     "data": {
      "image/png": "[encoded data removed]",
      "text/plain": [
       "<Figure size 432x288 with 2 Axes>"
      ]
     },
     "metadata": {
      "needs_background": "light"
     },
     "output_type": "display_data"
    },
    {
     "name": "stdout",
     "output_type": "stream",
     "text": [
      "MLP's XOR probabilities: \n",
      "[class0, class1]\n",
      "[[0.52142263 0.47857737]\n",
      " [0.43470858 0.56529142]\n",
      " [0.24747253 0.75252747]\n",
      " [0.83435312 0.16564688]]\n"
     ]
    }
   ],
   "source": [
    "plot_decision_boundary(mlp, X, y_XOR, 'XOR')\n",
    "plt.show()\n",
    "\n",
    "# get predictions\n",
    "pred = mlp.predict_proba(X)\n",
    "print(\"MLP's XOR probabilities: \\n[class0, class1]\\n{}\".format(pred))"
   ]
  },
  {
   "cell_type": "markdown",
   "metadata": {},
   "source": [
    "Learning rate modification\n",
    "- The learning rate is a parameter which affects the size of the step an algorithm takes towards the optimal loss within gradient descent\n",
    "- Max iterations are set back to 10,000\n",
    "- As we increase the learning rate, we increase the distance between the ‘steps’ an algorithm takes towards its goal. "
   ]
  },
  {
   "cell_type": "code",
   "execution_count": 21,
   "metadata": {},
   "outputs": [
    {
     "data": {
      "image/png": "[encoded data removed]",
      "text/plain": [
       "<Figure size 432x288 with 2 Axes>"
      ]
     },
     "metadata": {
      "needs_background": "light"
     },
     "output_type": "display_data"
    },
    {
     "name": "stdout",
     "output_type": "stream",
     "text": [
      "Learning rate: 0.4\n",
      "MLP's XOR probabilities:\n",
      "[class0, class1]\n",
      "[[9.99379682e-01 6.20317711e-04]\n",
      " [1.13877862e-03 9.98861221e-01]\n",
      " [4.27808371e-07 9.99999572e-01]\n",
      " [9.99051325e-01 9.48675049e-04]]\n"
     ]
    }
   ],
   "source": [
    "# Compute XOR\n",
    "# Setting the input samples.\n",
    "X = np.array([[0, 0],\n",
    "              [0, 1],\n",
    "              [1, 0],\n",
    "              [1, 1]],\n",
    "            dtype=np.double)\n",
    "y_XOR = np.array([0, 1, 1, 0])\n",
    "# Create a MLPClassifier.\n",
    "mlp = MLPClassifier(hidden_layer_sizes=(5,),\n",
    "    activation='tanh',\n",
    "    learning_rate_init=0.4, # big value to show a step too large\n",
    "    max_iter=10000,\n",
    "    random_state=10)\n",
    "# Train model\n",
    "mlp.fit(X, y_XOR)\n",
    "# Plot and display the decision boundary\n",
    "plot_decision_boundary(mlp, X, y_XOR, 'XOR')\n",
    "plt.show()\n",
    "# Get predicted values and print\n",
    "pred = mlp.predict_proba(X)\n",
    "print(\"Learning rate: 0.4\")\n",
    "print(\"MLP's XOR probabilities:\\n[class0, class1]\\n{}\".format(pred))\n"
   ]
  },
  {
   "cell_type": "code",
   "execution_count": null,
   "metadata": {},
   "outputs": [],
   "source": []
  }
 ],
 "metadata": {
  "interpreter": {
   "hash": "13be996707cade6ab6f29e33447cde9c4f380b1e11836a6550956a278061986d"
  },
  "kernelspec": {
   "display_name": "Python 3.8.5 ('base')",
   "language": "python",
   "name": "python3"
  },
  "language_info": {
   "codemirror_mode": {
    "name": "ipython",
    "version": 3
   },
   "file_extension": ".py",
   "mimetype": "text/x-python",
   "name": "python",
   "nbconvert_exporter": "python",
   "pygments_lexer": "ipython3",
   "version": "3.8.5"
  },
  "orig_nbformat": 4
 },
 "nbformat": 4,
 "nbformat_minor": 2
}
