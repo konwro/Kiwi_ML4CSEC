{
 "cells": [
  {
   "cell_type": "markdown",
   "metadata": {},
   "source": [
    "### Training Multi-Layered Neural Network\n",
    "- https://security.kiwi/docs/training-neural-networks/\n",
    "-  a small multi-layered network designed to compute XOR arguments\n"
   ]
  },
  {
   "cell_type": "markdown",
   "metadata": {},
   "source": [
    "Logic gates\n",
    "- the basic building block of digital systems, taking one or more binary inputs and creating a single binary output based on internal logic, transistors perform these actions in computer electronics\n",
    "- can be connected to create more complex multi-input/output circuits which perform operations such as addition, subtraction, multiplication, inversion etc\n"
   ]
  },
  {
   "cell_type": "markdown",
   "metadata": {},
   "source": [
    "Logical operation in Neural Networks\n",
    "- Neurons in a network can represent the logical operators (AND, OR, NOT)."
   ]
  },
  {
   "cell_type": "markdown",
   "metadata": {},
   "source": [
    "XOR\n",
    "- Exclusive OR or XOR provides a logical structure which specifics that only one of the inputs is true, not both"
   ]
  },
  {
   "cell_type": "markdown",
   "metadata": {},
   "source": [
    "Building a Neural Network to Compute XOR\n",
    "- utilise scikit-learns multi-layer perceptron\n",
    "- visualise the decision boundaries"
   ]
  },
  {
   "cell_type": "code",
   "execution_count": 1,
   "metadata": {},
   "outputs": [],
   "source": [
    "import pandas as pd\n",
    "import numpy as np\n",
    "import matplotlib.pyplot as plt\n",
    "from matplotlib.colors import ListedColormap\n",
    "from sklearn.preprocessing import LabelEncoder, StandardScaler\n",
    "from sklearn.linear_model import Perceptron\n",
    "from sklearn.neural_network import MLPClassifier\n",
    "from sklearn.model_selection import train_test_split\n",
    "from sklearn.metrics import accuracy_score\n"
   ]
  },
  {
   "cell_type": "markdown",
   "metadata": {},
   "source": [
    "Plot algorithm decision boundary\n",
    "- http://scikit-learn.org/stable/auto_examples/classification/plot_classifier_comparison.html"
   ]
  },
  {
   "cell_type": "code",
   "execution_count": 13,
   "metadata": {},
   "outputs": [],
   "source": [
    "def plot_decision_boundary(classifier, X, y, title):\n",
    "    xmin, xmax = np.min(X[:, 0]) - 0.05, np.max(X[:, 0]) + 0.05\n",
    "    ymin, ymax = np.min(X[:, 1]) - 0.05, np.max(X[:, 1]) + 0.05\n",
    "    step = 0.01\n",
    "\n",
    "    cm = plt.cm.coolwarm_r\n",
    "\n",
    "    thr = 0.0\n",
    "\n",
    "    xx, yy = np.meshgrid(np.arange(xmin - thr, xmax + thr, step), np.arange(ymin - thr, ymax + thr, step))\n",
    "    \n",
    "    if hasattr(classifier, 'decision_function'):\n",
    "        Z = classifier.decision_function(np.hstack((xx.ravel()[:, np.newaxis], yy.ravel()[:, np.newaxis])))\n",
    "    else:\n",
    "        Z = classifier.predict_proba(np.hstack((xx.ravel()[:, np.newaxis], yy.ravel()[:, np.newaxis])))[:,1]\n",
    "    \n",
    "    Z = Z.reshape(xx.shape)\n",
    "    plt.contourf(xx, yy, Z, cmap=cm, alpha=0.8)    \n",
    "    plt.colorbar()\n",
    "    plt.scatter(X[:, 0], X[:, 1], c=y, cmap=ListedColormap(['#FF0000','#0000FF']), alpha=0.6)\n",
    "    plt.xlim(xmin, xmax)\n",
    "    plt.ylim(ymin, ymax)    \n",
    "    plt.xticks((0.0, 1.0))    \n",
    "    plt.yticks((0.0, 1.0))\n",
    "    plt.title(title)"
   ]
  },
  {
   "cell_type": "markdown",
   "metadata": {},
   "source": [
    "Train XOR Neural Network"
   ]
  },
  {
   "cell_type": "markdown",
   "metadata": {},
   "source": [
    "- use Scikit-learn multi-layer perceptron (**MLP**)  \n",
    "- **hidden_layer_sizes** represents the number of hidden layers within the multi-layer perceptron. In our code below we have 5 layers, one more than our illustrative diagram.  \n",
    "- **activation** specifies the activation function.\n",
    "- **max_iter** is the maximum number of training iterations.\n",
    "- **random_state** represents a state to starting point for weight and bias initialisation, a value here allows reproducible results across runs, it doesn’t actually set the weight or bias to the value entered."
   ]
  },
  {
   "cell_type": "markdown",
   "metadata": {},
   "source": [
    "Set input samples"
   ]
  },
  {
   "cell_type": "code",
   "execution_count": 5,
   "metadata": {},
   "outputs": [],
   "source": [
    "X = np.array([[0,0],[0,1],[1,0],[1,1]], dtype=np.double)\n",
    "y_XOR = np.array([0,1,1,0])"
   ]
  },
  {
   "cell_type": "markdown",
   "metadata": {},
   "source": [
    "Create a MLPClassifier"
   ]
  },
  {
   "cell_type": "code",
   "execution_count": 8,
   "metadata": {},
   "outputs": [],
   "source": [
    "mlp = MLPClassifier(\n",
    "    hidden_layer_sizes=(5,),\n",
    "    activation='tanh',\n",
    "    max_iter=10000,\n",
    "    random_state=10\n",
    ")"
   ]
  },
  {
   "cell_type": "markdown",
   "metadata": {},
   "source": [
    "Train the model"
   ]
  },
  {
   "cell_type": "code",
   "execution_count": 9,
   "metadata": {},
   "outputs": [
    {
     "data": {
      "text/plain": [
       "MLPClassifier(activation='tanh', hidden_layer_sizes=(5,), max_iter=10000,\n",
       "              random_state=10)"
      ]
     },
     "execution_count": 9,
     "metadata": {},
     "output_type": "execute_result"
    }
   ],
   "source": [
    "mlp.fit(X, y_XOR)"
   ]
  },
  {
   "cell_type": "markdown",
   "metadata": {},
   "source": [
    "Plot decision boundary"
   ]
  },
  {
   "cell_type": "code",
   "execution_count": 14,
   "metadata": {},
   "outputs": [
    {
     "data": {
      "image/png": "[encoded data removed]",
      "text/plain": [
       "<Figure size 432x288 with 2 Axes>"
      ]
     },
     "metadata": {
      "needs_background": "light"
     },
     "output_type": "display_data"
    }
   ],
   "source": [
    "plot_decision_boundary(mlp, X, y_XOR, 'XOR')\n",
    "plt.show()"
   ]
  },
  {
   "cell_type": "markdown",
   "metadata": {},
   "source": [
    "Get predictions"
   ]
  },
  {
   "cell_type": "code",
   "execution_count": 15,
   "metadata": {},
   "outputs": [
    {
     "name": "stdout",
     "output_type": "stream",
     "text": [
      "MLP's XOR probabilities:\n",
      "[class0, class1]\n",
      "[[0.90824236 0.09175764]\n",
      " [0.08283202 0.91716798]\n",
      " [0.04569506 0.95430494]\n",
      " [0.95730544 0.04269456]]\n"
     ]
    }
   ],
   "source": [
    "pred = mlp.predict_proba(X)\n",
    "print(\"MLP's XOR probabilities:\\n[class0, class1]\\n{}\".format(pred))"
   ]
  }
 ],
 "metadata": {
  "interpreter": {
   "hash": "13be996707cade6ab6f29e33447cde9c4f380b1e11836a6550956a278061986d"
  },
  "kernelspec": {
   "display_name": "Python 3.8.5 ('base')",
   "language": "python",
   "name": "python3"
  },
  "language_info": {
   "codemirror_mode": {
    "name": "ipython",
    "version": 3
   },
   "file_extension": ".py",
   "mimetype": "text/x-python",
   "name": "python",
   "nbconvert_exporter": "python",
   "pygments_lexer": "ipython3",
   "version": "3.8.5"
  },
  "orig_nbformat": 4
 },
 "nbformat": 4,
 "nbformat_minor": 2
}
